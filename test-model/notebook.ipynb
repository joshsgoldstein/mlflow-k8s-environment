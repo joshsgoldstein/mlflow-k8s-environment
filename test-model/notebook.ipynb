{
 "cells": [
  {
   "cell_type": "code",
   "execution_count": null,
   "metadata": {},
   "outputs": [],
   "source": [
    "import pandas as pd\n",
    "import numpy as np\n",
    "from sklearn.metrics import mean_squared_error, mean_absolute_error, r2_score\n",
    "from sklearn.model_selection import train_test_split\n",
    "import xgboost as xgb\n",
    "import mlflow\n",
    "import mlflow.xgboost\n",
    "\n",
    "mlflow.set_tracking_uri('http://loadbalancerip') # Change to Mlflow URI  (loadbalancer ip)\n",
    "print(\"MLflow Version:\", mlflow.__version__)\n",
    "print(\"MLflow Tracking URI:\", mlflow.get_tracking_uri())\n",
    "print(\"XGBoost version:\",xgb.__version__)\n",
    "client = mlflow.tracking.MlflowClient()"
   ]
  }
 ],
 "metadata": {
  "kernelspec": {
   "display_name": "Python 3.9.7 ('data-science')",
   "language": "python",
   "name": "python3"
  },
  "language_info": {
   "name": "python",
   "version": "3.9.7"
  },
  "orig_nbformat": 4,
  "vscode": {
   "interpreter": {
    "hash": "a64daf48265175ab4f9e3b4f218504d1fb45289ba63ff66be172e6ba46f72957"
   }
  }
 },
 "nbformat": 4,
 "nbformat_minor": 2
}
